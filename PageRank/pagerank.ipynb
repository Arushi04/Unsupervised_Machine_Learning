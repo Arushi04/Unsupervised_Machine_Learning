{
 "cells": [
  {
   "cell_type": "markdown",
   "metadata": {},
   "source": [
    "### Q1: \n",
    "In  this  exercise  we  will  compute  the  PageRank  scores  for  pages  in  a  dataset  provided  byGoogle in a programming contest in 2002.  \n",
    "\n",
    "The fileweb-Google_10k.txt contains data about 10,000 web pages and 78,323 links.  The file format is:\n",
    "The first four rows contain metadata about the data set and are self-explained.\n",
    "The following rows consist of two values that represent the link from the web page inthe first column to the web page in the second column.\n",
    "For example, if the row is 0 11342, this means that there is a directed link from page id0 to page id 11342."
   ]
  },
  {
   "cell_type": "code",
   "execution_count": 65,
   "metadata": {},
   "outputs": [],
   "source": [
    "import numpy as np\n",
    "import pandas as pd\n",
    "\n",
    "np.set_printoptions(suppress=True)"
   ]
  },
  {
   "cell_type": "code",
   "execution_count": 78,
   "metadata": {},
   "outputs": [
    {
     "name": "stdout",
     "output_type": "stream",
     "text": [
      "9896\n",
      "8765\n"
     ]
    }
   ],
   "source": [
    "outlinks = {}  # key is the node and values are the page ids that it points to\n",
    "inlinks = set() # set of all inlinks\n",
    "\n",
    "with open('web-Google_10k.txt') as f:\n",
    "    for line in f:\n",
    "        if not line.startswith('#'):\n",
    "            source, dest = line.split('\\t')\n",
    "            if int(source) not in outlinks:\n",
    "                outlinks[int(source)] = {int(dest.strip())}\n",
    "            else:\n",
    "                outlinks[int(source)].add(int(dest.strip()))\n",
    "                \n",
    "                \n",
    "            inlinks.add(int(dest))\n",
    "            \n",
    "      \n",
    "print(len(inlinks))           \n",
    "print(len(outlinks)) \n",
    "\n",
    "    "
   ]
  },
  {
   "cell_type": "markdown",
   "metadata": {},
   "source": [
    "### 1.1 Find all the dead ends.  A page is a dead end if it has no out-going links."
   ]
  },
  {
   "cell_type": "code",
   "execution_count": 79,
   "metadata": {},
   "outputs": [
    {
     "name": "stdout",
     "output_type": "stream",
     "text": [
      "Total deadends are :  1235\n"
     ]
    },
    {
     "data": {
      "text/plain": [
       "array([696320, 196611, 786440, ...,  40927, 401378, 851963])"
      ]
     },
     "execution_count": 79,
     "metadata": {},
     "output_type": "execute_result"
    }
   ],
   "source": [
    "dead_ends=np.array(list(inlinks - outlinks.keys()))\n",
    "\n",
    "print(\"Total deadends are : \", len(dead_ends))\n",
    "dead_ends"
   ]
  },
  {
   "cell_type": "markdown",
   "metadata": {},
   "source": [
    "### 1.2 Build the page transition matrix A from the data set and make sure it is a stochastic matrix."
   ]
  },
  {
   "cell_type": "code",
   "execution_count": 82,
   "metadata": {},
   "outputs": [
    {
     "name": "stdout",
     "output_type": "stream",
     "text": [
      "Dangling pages :  1235\n"
     ]
    }
   ],
   "source": [
    "unique_nodes = list(set(list(inlinks) + list(outlinks)))\n",
    "n = len(unique_nodes)\n",
    "stoch_matrix = np.zeros((n, n))\n",
    "\n",
    "# creating transition matrix\n",
    "for i in range(len(unique_nodes)):\n",
    "    for j in range(len(unique_nodes)):\n",
    "        if unique_nodes[i] in outlinks:\n",
    "            if unique_nodes[j] in outlinks[unique_nodes[i]]:\n",
    "                stoch_matrix[i][j] = 1/len(outlinks[unique_nodes[i]])\n",
    "                \n",
    "\n",
    "# Handling dangling pages to form stochastic matrix\n",
    "\n",
    "rows = np.where(~stoch_matrix.any(axis=1))[0]\n",
    "print(\"Dangling pages : \", len(rows))\n",
    "for i in rows:\n",
    "    stoch_matrix[i][:] = 1/n\n",
    "                "
   ]
  },
  {
   "cell_type": "code",
   "execution_count": 83,
   "metadata": {},
   "outputs": [
    {
     "data": {
      "text/plain": [
       "(10000, 10000)"
      ]
     },
     "execution_count": 83,
     "metadata": {},
     "output_type": "execute_result"
    }
   ],
   "source": [
    "stoch_matrix.shape"
   ]
  },
  {
   "cell_type": "markdown",
   "metadata": {},
   "source": [
    "### 1.3 Implement the PageRank algorithm."
   ]
  },
  {
   "cell_type": "code",
   "execution_count": 84,
   "metadata": {},
   "outputs": [],
   "source": [
    "def page_rank(A, d, n, eps):\n",
    "\n",
    "    e = np.ones(n)\n",
    "    p_new = e/n\n",
    "    k = 0\n",
    "    \n",
    "    while(True):\n",
    "        p_old = p_new\n",
    "        p_new = d*np.matmul(A.T, p_old) + (1-d)*e/n\n",
    "        \n",
    "        if k%5==0:\n",
    "            print(\"Iter : {} and Error : {} \".format(k, np.absolute(p_old-p_new).sum())) \n",
    "        \n",
    "        k += 1\n",
    "        \n",
    "        if (np.absolute(p_old-p_new).sum() < eps):\n",
    "            print(\"Iter : {} and Error : {} \".format(k, np.absolute(p_old-p_new).sum()))    \n",
    "            return p_new\n",
    "    "
   ]
  },
  {
   "cell_type": "markdown",
   "metadata": {},
   "source": [
    "### 1.4 Run the PageRank algorithm on the matrix A with a damping factor of d= 0.85 and = 0.001.  The output format should be two-column:  the first column is the web pageid and the second column is its PageRank score.  Sort the output by descending order of the PageRank scores."
   ]
  },
  {
   "cell_type": "code",
   "execution_count": 85,
   "metadata": {},
   "outputs": [
    {
     "name": "stdout",
     "output_type": "stream",
     "text": [
      "Iter : 0 and Error : 0.7674622280257468 \n",
      "Iter : 5 and Error : 0.029884494881885312 \n",
      "Iter : 10 and Error : 0.006911969665055052 \n",
      "Iter : 15 and Error : 0.002208293271365266 \n",
      "Iter : 20 and Error : 0.0009586197515640398 \n"
     ]
    }
   ],
   "source": [
    "d = 0.85\n",
    "eps = 0.001\n",
    "\n",
    "p = page_rank(stoch_matrix, d, n, eps)\n"
   ]
  },
  {
   "cell_type": "code",
   "execution_count": 86,
   "metadata": {},
   "outputs": [
    {
     "data": {
      "text/html": [
       "<div>\n",
       "<style scoped>\n",
       "    .dataframe tbody tr th:only-of-type {\n",
       "        vertical-align: middle;\n",
       "    }\n",
       "\n",
       "    .dataframe tbody tr th {\n",
       "        vertical-align: top;\n",
       "    }\n",
       "\n",
       "    .dataframe thead th {\n",
       "        text-align: right;\n",
       "    }\n",
       "</style>\n",
       "<table border=\"1\" class=\"dataframe\">\n",
       "  <thead>\n",
       "    <tr style=\"text-align: right;\">\n",
       "      <th></th>\n",
       "      <th>0</th>\n",
       "    </tr>\n",
       "  </thead>\n",
       "  <tbody>\n",
       "    <tr>\n",
       "      <th>486980</th>\n",
       "      <td>0.006931</td>\n",
       "    </tr>\n",
       "    <tr>\n",
       "      <th>285814</th>\n",
       "      <td>0.004733</td>\n",
       "    </tr>\n",
       "    <tr>\n",
       "      <th>226374</th>\n",
       "      <td>0.003388</td>\n",
       "    </tr>\n",
       "    <tr>\n",
       "      <th>163075</th>\n",
       "      <td>0.003339</td>\n",
       "    </tr>\n",
       "    <tr>\n",
       "      <th>555924</th>\n",
       "      <td>0.002695</td>\n",
       "    </tr>\n",
       "  </tbody>\n",
       "</table>\n",
       "</div>"
      ],
      "text/plain": [
       "               0\n",
       "486980  0.006931\n",
       "285814  0.004733\n",
       "226374  0.003388\n",
       "163075  0.003339\n",
       "555924  0.002695"
      ]
     },
     "execution_count": 86,
     "metadata": {},
     "output_type": "execute_result"
    }
   ],
   "source": [
    "p_df = pd.DataFrame(p, index=unique_nodes)\n",
    "p_df = p_df.sort_values(by=[0], ascending=False)\n",
    "p_df.head()"
   ]
  },
  {
   "cell_type": "code",
   "execution_count": null,
   "metadata": {},
   "outputs": [],
   "source": []
  }
 ],
 "metadata": {
  "kernelspec": {
   "display_name": "Python 3",
   "language": "python",
   "name": "python3"
  },
  "language_info": {
   "codemirror_mode": {
    "name": "ipython",
    "version": 3
   },
   "file_extension": ".py",
   "mimetype": "text/x-python",
   "name": "python",
   "nbconvert_exporter": "python",
   "pygments_lexer": "ipython3",
   "version": "3.7.7"
  }
 },
 "nbformat": 4,
 "nbformat_minor": 4
}
